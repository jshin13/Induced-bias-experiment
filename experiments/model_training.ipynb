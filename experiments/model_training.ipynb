{
 "metadata": {
  "language_info": {
   "codemirror_mode": {
    "name": "ipython",
    "version": 3
   },
   "file_extension": ".py",
   "mimetype": "text/x-python",
   "name": "python",
   "nbconvert_exporter": "python",
   "pygments_lexer": "ipython3",
   "version": "3.8.6"
  },
  "orig_nbformat": 2,
  "kernelspec": {
   "name": "python3",
   "display_name": "Python 3.8.6 64-bit ('project_bias': venv)",
   "metadata": {
    "interpreter": {
     "hash": "9f659e1e01fa519415a08a35cd0a19a45df37c598c2f3b7f3753cfe8e2a24627"
    }
   }
  }
 },
 "nbformat": 4,
 "nbformat_minor": 2,
 "cells": [
  {
   "cell_type": "code",
   "execution_count": 1,
   "metadata": {},
   "outputs": [
    {
     "output_type": "stream",
     "name": "stdout",
     "text": [
      "c:\\Users\\jongm\\Desktop\\temp_workspace\\Python\\JOVO\\induced_bias_exp\n"
     ]
    }
   ],
   "source": [
    "# changing cwd\n",
    "%cd .."
   ]
  },
  {
   "source": [
    "## Load packages"
   ],
   "cell_type": "markdown",
   "metadata": {}
  },
  {
   "cell_type": "code",
   "execution_count": 2,
   "metadata": {},
   "outputs": [],
   "source": [
    "from src.inductive_bias import IB\n",
    "ib = IB() #instantiate inductive bias package"
   ]
  },
  {
   "source": [
    "## Time and Date of the experiment"
   ],
   "cell_type": "markdown",
   "metadata": {}
  },
  {
   "cell_type": "code",
   "execution_count": 3,
   "metadata": {},
   "outputs": [
    {
     "output_type": "stream",
     "name": "stdout",
     "text": [
      "2021-03-31 04:08:13.156186\n"
     ]
    }
   ],
   "source": [
    "print(ib.date)"
   ]
  },
  {
   "source": [
    "## Load previously generated simulation datasets"
   ],
   "cell_type": "markdown",
   "metadata": {}
  },
  {
   "cell_type": "code",
   "execution_count": 4,
   "metadata": {},
   "outputs": [
    {
     "output_type": "stream",
     "name": "stdout",
     "text": [
      "[ c:\\Users\\jongm\\Desktop\\temp_workspace\\Python\\JOVO\\induced_bias_exp\\clf\\SimulationData.pickle ] loaded\n"
     ]
    }
   ],
   "source": [
    "ib.load_dataset()"
   ]
  },
  {
   "source": [
    "## Train ML models on the simulation datasets\n",
    "``Best accuracy value`` is the accuracy for training set.\n",
    "``Prediction score`` is the accuracy for testing set.\n",
    "\n",
    "Trained models = `['SVM', 'MLP', 'RF', 'QDA']` <br>\n",
    "Simulation datasets = `['Gaussian XOR', 'Uniform XOR', 'Spiral', 'Gaussian R-XOR', 'Gaussian S-XOR']`"
   ],
   "cell_type": "markdown",
   "metadata": {}
  },
  {
   "cell_type": "code",
   "execution_count": 5,
   "metadata": {
    "tags": []
   },
   "outputs": [],
   "source": [
    "# ib.get_clf()"
   ]
  },
  {
   "source": [
    "## Save current ML models trained on the simulation datasets"
   ],
   "cell_type": "markdown",
   "metadata": {}
  },
  {
   "cell_type": "code",
   "execution_count": 6,
   "metadata": {},
   "outputs": [],
   "source": [
    "# ib.load_clf(save=True)"
   ]
  },
  {
   "source": [
    "## Load previously trained classifiers"
   ],
   "cell_type": "markdown",
   "metadata": {}
  },
  {
   "cell_type": "code",
   "execution_count": 7,
   "metadata": {},
   "outputs": [
    {
     "output_type": "stream",
     "name": "stdout",
     "text": [
      "[ c:\\Users\\jongm\\Desktop\\temp_workspace\\Python\\JOVO\\induced_bias_exp\\clf\\TrainedCLF.pickle ] loaded\n"
     ]
    }
   ],
   "source": [
    "ib.load_clf()"
   ]
  },
  {
   "source": [
    "## Predict posterior probability of each sklearn classifier (calls `predict_proba()`)"
   ],
   "cell_type": "markdown",
   "metadata": {}
  },
  {
   "cell_type": "code",
   "execution_count": 8,
   "metadata": {},
   "outputs": [],
   "source": [
    "# ib.get_proba()"
   ]
  },
  {
   "source": [
    "## Save current posterior probability"
   ],
   "cell_type": "markdown",
   "metadata": {}
  },
  {
   "cell_type": "code",
   "execution_count": 9,
   "metadata": {},
   "outputs": [],
   "source": [
    "# ib.load_est(save=True)"
   ]
  },
  {
   "source": [
    "## Load previously saved posterior probability of the trained sklearn classifiers"
   ],
   "cell_type": "markdown",
   "metadata": {}
  },
  {
   "cell_type": "code",
   "execution_count": 10,
   "metadata": {},
   "outputs": [
    {
     "output_type": "stream",
     "name": "stdout",
     "text": [
      "[ c:\\Users\\jongm\\Desktop\\temp_workspace\\Python\\JOVO\\induced_bias_exp\\clf\\EstimatedData.pickle ] loaded\n"
     ]
    }
   ],
   "source": [
    "ib.load_est()"
   ]
  }
 ]
}