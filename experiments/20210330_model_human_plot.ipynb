{
 "metadata": {
  "language_info": {
   "codemirror_mode": {
    "name": "ipython",
    "version": 3
   },
   "file_extension": ".py",
   "mimetype": "text/x-python",
   "name": "python",
   "nbconvert_exporter": "python",
   "pygments_lexer": "ipython3",
   "version": "3.8.6-final"
  },
  "orig_nbformat": 2,
  "kernelspec": {
   "name": "python3",
   "display_name": "Python 3.8.6 64-bit ('project_bias')",
   "metadata": {
    "interpreter": {
     "hash": "9f659e1e01fa519415a08a35cd0a19a45df37c598c2f3b7f3753cfe8e2a24627"
    }
   }
  }
 },
 "nbformat": 4,
 "nbformat_minor": 2,
 "cells": [
  {
   "cell_type": "code",
   "execution_count": 1,
   "metadata": {},
   "outputs": [
    {
     "output_type": "stream",
     "name": "stdout",
     "text": [
      "c:\\Users\\jongm\\Desktop\\temp_workspace\\Python\\JOVO\\induced_bias_exp\n"
     ]
    }
   ],
   "source": [
    "# changing cwd\n",
    "%cd .."
   ]
  },
  {
   "source": [
    "## Load packages"
   ],
   "cell_type": "markdown",
   "metadata": {}
  },
  {
   "cell_type": "code",
   "execution_count": 2,
   "metadata": {},
   "outputs": [],
   "source": [
    "from src.inductive_bias import IB\n",
    "ib = IB() #instantiate inductive bias package"
   ]
  },
  {
   "source": [
    "## Time and Date of the experiment"
   ],
   "cell_type": "markdown",
   "metadata": {}
  },
  {
   "cell_type": "code",
   "execution_count": 3,
   "metadata": {},
   "outputs": [
    {
     "output_type": "stream",
     "name": "stdout",
     "text": [
      "2021-03-22 02:30:49.555053\n"
     ]
    }
   ],
   "source": [
    "print(ib.date)"
   ]
  }
 ]
}