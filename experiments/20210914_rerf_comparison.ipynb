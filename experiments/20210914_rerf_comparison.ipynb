{
 "metadata": {
  "orig_nbformat": 2,
  "kernelspec": {
   "name": "python3",
   "display_name": "Python 3.8.10 64-bit ('project_bias': venv)"
  },
  "interpreter": {
   "hash": "3f457554cc1982dfbcfd83812a965354d039c8b4bf8476f94866b8360f1b1f03"
  },
  "language_info": {
   "name": "python",
   "version": "3.8.10",
   "mimetype": "text/x-python",
   "codemirror_mode": {
    "name": "ipython",
    "version": 3
   },
   "pygments_lexer": "ipython3",
   "nbconvert_exporter": "python",
   "file_extension": ".py"
  }
 },
 "nbformat": 4,
 "nbformat_minor": 2,
 "cells": [
  {
   "cell_type": "markdown",
   "source": [
    "# Oblique tree behavior comparison\r\n",
    "In addtion to other algorithms (SVM, MLP, RF) and human, the oblique tree (RERF) is added to the list for comparison."
   ],
   "metadata": {}
  },
  {
   "cell_type": "code",
   "execution_count": 1,
   "source": [
    "# changing cwd\r\n",
    "%cd .."
   ],
   "outputs": [
    {
     "output_type": "stream",
     "name": "stdout",
     "text": [
      "c:\\Users\\jongm\\Desktop\\temp_workspace\\JOVO\\inductive-bias\n"
     ]
    }
   ],
   "metadata": {}
  },
  {
   "cell_type": "markdown",
   "source": [
    "## Load packages"
   ],
   "metadata": {}
  },
  {
   "cell_type": "code",
   "execution_count": 2,
   "source": [
    "from src.inductive_bias import IB\r\n",
    "ib = IB() #instantiate inductive bias package"
   ],
   "outputs": [
    {
     "output_type": "stream",
     "name": "stdout",
     "text": [
      "[ c:\\Users\\jongm\\Desktop\\temp_workspace\\JOVO\\inductive-bias\\clf\\SimulationData.pickle ] loaded\n",
      "[ c:\\Users\\jongm\\Desktop\\temp_workspace\\JOVO\\inductive-bias\\clf\\PosteriorData.pickle ] loaded\n",
      "[ c:\\Users\\jongm\\Desktop\\temp_workspace\\JOVO\\inductive-bias\\clf\\TrainedCLF.pickle ] loaded\n",
      "[ c:\\Users\\jongm\\Desktop\\temp_workspace\\JOVO\\inductive-bias\\clf\\EstimatedData.pickle ] loaded\n",
      "[ c:\\Users\\jongm\\Desktop\\temp_workspace\\JOVO\\inductive-bias\\clf\\HellingerData.pickle ] loaded\n",
      "Size of the S-XOR: (6322,)                    \n",
      "Size of the Spiral: (6276,)                    \n",
      "Size of the whole dataset: (12598, 7)\n",
      "\n",
      "Size of the S-XOR after adding hellinger: (6322, 8)            \n",
      "Size of the Spiral after adding hellinger: (6276, 8)\n"
     ]
    }
   ],
   "metadata": {}
  },
  {
   "cell_type": "markdown",
   "source": [
    "## Time and Date of the experiment"
   ],
   "metadata": {}
  },
  {
   "cell_type": "code",
   "execution_count": 3,
   "source": [
    "print(ib.date)"
   ],
   "outputs": [
    {
     "output_type": "stream",
     "name": "stdout",
     "text": [
      "2021-09-14 20:10:14.284563\n"
     ]
    }
   ],
   "metadata": {}
  },
  {
   "cell_type": "markdown",
   "source": [
    "## Load Dependencies"
   ],
   "metadata": {}
  },
  {
   "cell_type": "code",
   "execution_count": 4,
   "source": [
    "%pip install rerf"
   ],
   "outputs": [
    {
     "output_type": "stream",
     "name": "stdout",
     "text": [
      "Collecting rerf\n",
      "  Using cached rerf-2.0.5.tar.gz (70 kB)\n",
      "Requirement already satisfied: pybind11>=2.2.4 in c:\\users\\jongm\\desktop\\temp_workspace\\jovo\\inductive-bias\\project_bias\\lib\\site-packages (from rerf) (2.7.1)\n",
      "Requirement already satisfied: numpy>=1.16.3 in c:\\users\\jongm\\desktop\\temp_workspace\\jovo\\inductive-bias\\project_bias\\lib\\site-packages (from rerf) (1.19.3)\n",
      "Requirement already satisfied: scikit-learn>=0.21.0 in c:\\users\\jongm\\desktop\\temp_workspace\\jovo\\inductive-bias\\project_bias\\lib\\site-packages (from rerf) (0.23.2)\n",
      "Requirement already satisfied: requests>=2.22.0 in c:\\users\\jongm\\desktop\\temp_workspace\\jovo\\inductive-bias\\project_bias\\lib\\site-packages (from rerf) (2.26.0)\n",
      "Requirement already satisfied: idna<4,>=2.5 in c:\\users\\jongm\\desktop\\temp_workspace\\jovo\\inductive-bias\\project_bias\\lib\\site-packages (from requests>=2.22.0->rerf) (3.2)\n",
      "Requirement already satisfied: certifi>=2017.4.17 in c:\\users\\jongm\\desktop\\temp_workspace\\jovo\\inductive-bias\\project_bias\\lib\\site-packages (from requests>=2.22.0->rerf) (2021.5.30)\n",
      "Requirement already satisfied: urllib3<1.27,>=1.21.1 in c:\\users\\jongm\\desktop\\temp_workspace\\jovo\\inductive-bias\\project_bias\\lib\\site-packages (from requests>=2.22.0->rerf) (1.26.6)\n",
      "Requirement already satisfied: charset-normalizer~=2.0.0 in c:\\users\\jongm\\desktop\\temp_workspace\\jovo\\inductive-bias\\project_bias\\lib\\site-packages (from requests>=2.22.0->rerf) (2.0.5)\n",
      "Requirement already satisfied: scipy>=0.19.1 in c:\\users\\jongm\\desktop\\temp_workspace\\jovo\\inductive-bias\\project_bias\\lib\\site-packages (from scikit-learn>=0.21.0->rerf) (1.5.4)\n",
      "Requirement already satisfied: threadpoolctl>=2.0.0 in c:\\users\\jongm\\desktop\\temp_workspace\\jovo\\inductive-bias\\project_bias\\lib\\site-packages (from scikit-learn>=0.21.0->rerf) (2.1.0)\n",
      "Requirement already satisfied: joblib>=0.11 in c:\\users\\jongm\\desktop\\temp_workspace\\jovo\\inductive-bias\\project_bias\\lib\\site-packages (from scikit-learn>=0.21.0->rerf) (0.17.0)\n",
      "Building wheels for collected packages: rerf\n",
      "  Building wheel for rerf (setup.py): started\n",
      "  Building wheel for rerf (setup.py): finished with status 'error'\n",
      "  Running setup.py clean for rerf\n",
      "Failed to build rerf\n",
      "Installing collected packages: rerfNote: you may need to restart the kernel to use updated packages.\n"
     ]
    },
    {
     "output_type": "stream",
     "name": "stderr",
     "text": [
      "WARNING: Ignoring invalid distribution -atplotlib (c:\\users\\jongm\\desktop\\temp_workspace\\jovo\\inductive-bias\\project_bias\\lib\\site-packages)\n",
      "WARNING: Ignoring invalid distribution -atplotlib (c:\\users\\jongm\\desktop\\temp_workspace\\jovo\\inductive-bias\\project_bias\\lib\\site-packages)\n",
      "  ERROR: Command errored out with exit status 1:\n",
      "   command: 'c:\\Users\\jongm\\Desktop\\temp_workspace\\JOVO\\inductive-bias\\project_bias\\Scripts\\python.exe' -u -c 'import io, os, sys, setuptools, tokenize; sys.argv[0] = '\"'\"'C:\\\\Users\\\\jongm\\\\AppData\\\\Local\\\\Temp\\\\pip-install-eye2frzt\\\\rerf_aaf224d974a64e89ab0b4e961355e41e\\\\setup.py'\"'\"'; __file__='\"'\"'C:\\\\Users\\\\jongm\\\\AppData\\\\Local\\\\Temp\\\\pip-install-eye2frzt\\\\rerf_aaf224d974a64e89ab0b4e961355e41e\\\\setup.py'\"'\"';f = getattr(tokenize, '\"'\"'open'\"'\"', open)(__file__) if os.path.exists(__file__) else io.StringIO('\"'\"'from setuptools import setup; setup()'\"'\"');code = f.read().replace('\"'\"'\\r\\n'\"'\"', '\"'\"'\\n'\"'\"');f.close();exec(compile(code, __file__, '\"'\"'exec'\"'\"'))' bdist_wheel -d 'C:\\Users\\jongm\\AppData\\Local\\Temp\\pip-wheel-j7_c9ssi'\n",
      "       cwd: C:\\Users\\jongm\\AppData\\Local\\Temp\\pip-install-eye2frzt\\rerf_aaf224d974a64e89ab0b4e961355e41e\\\n",
      "  Complete output (45 lines):\n",
      "  running bdist_wheel\n",
      "  running build\n",
      "  running build_py\n",
      "  creating build\n",
      "  creating build\\lib.win-amd64-3.8\n",
      "  creating build\\lib.win-amd64-3.8\\rerf\n",
      "  copying rerf\\RerF.py -> build\\lib.win-amd64-3.8\\rerf\n",
      "  copying rerf\\rerfClassifier.py -> build\\lib.win-amd64-3.8\\rerf\n",
      "  copying rerf\\urerf.py -> build\\lib.win-amd64-3.8\\rerf\n",
      "  copying rerf\\__init__.py -> build\\lib.win-amd64-3.8\\rerf\n",
      "  running egg_info\n",
      "  writing rerf.egg-info\\PKG-INFO\n",
      "  writing dependency_links to rerf.egg-info\\dependency_links.txt\n",
      "  writing requirements to rerf.egg-info\\requires.txt\n",
      "  writing top-level names to rerf.egg-info\\top_level.txt\n",
      "  reading manifest file 'rerf.egg-info\\SOURCES.txt'\n",
      "  reading manifest template 'MANIFEST.in'\n",
      "  writing manifest file 'rerf.egg-info\\SOURCES.txt'\n",
      "  running build_ext\n",
      "  building 'pyfp' extension\n",
      "  creating build\\temp.win-amd64-3.8\n",
      "  creating build\\temp.win-amd64-3.8\\Release\n",
      "  creating build\\temp.win-amd64-3.8\\Release\\src\n",
      "  C:\\Program Files (x86)\\Microsoft Visual Studio\\2019\\BuildTools\\VC\\Tools\\MSVC\\14.29.30133\\bin\\HostX86\\x64\\cl.exe /c /nologo /Ox /W3 /GL /DNDEBUG /MD -Ic:\\Users\\jongm\\Desktop\\temp_workspace\\JOVO\\inductive-bias\\project_bias\\lib\\site-packages\\pybind11\\include -Ic:\\Users\\jongm\\Desktop\\temp_workspace\\JOVO\\inductive-bias\\project_bias\\lib\\site-packages\\pybind11\\include -Isrc/src/ -Ic:\\Users\\jongm\\Desktop\\temp_workspace\\JOVO\\inductive-bias\\project_bias\\include \"-IC:\\Program Files\\WindowsApps\\PythonSoftwareFoundation.Python.3.8_3.8.2800.0_x64__qbz5n2kfra8p0\\include\" \"-IC:\\Program Files\\WindowsApps\\PythonSoftwareFoundation.Python.3.8_3.8.2800.0_x64__qbz5n2kfra8p0\\include\" \"-IC:\\Program Files (x86)\\Microsoft Visual Studio\\2019\\BuildTools\\VC\\Tools\\MSVC\\14.29.30133\\include\" \"-IC:\\Program Files (x86)\\Windows Kits\\10\\include\\10.0.19041.0\\ucrt\" \"-IC:\\Program Files (x86)\\Windows Kits\\10\\include\\10.0.19041.0\\shared\" \"-IC:\\Program Files (x86)\\Windows Kits\\10\\include\\10.0.19041.0\\um\" \"-IC:\\Program Files (x86)\\Windows Kits\\10\\include\\10.0.19041.0\\winrt\" \"-IC:\\Program Files (x86)\\Windows Kits\\10\\include\\10.0.19041.0\\cppwinrt\" /EHsc /Tpsrc/packedForest.cpp /Fobuild\\temp.win-amd64-3.8\\Release\\src/packedForest.obj /EHsc /openmp /DVERSION_INFO=\\\"2.0.5\\\"\n",
      "  packedForest.cpp\n",
      "  C:\\Users\\jongm\\AppData\\Local\\Temp\\pip-install-eye2frzt\\rerf_aaf224d974a64e89ab0b4e961355e41e\\src\\src\\fpSingleton\\fpInfo.h(187): warning C4244: '=': 'double'에서 'int'(으)로 변환하면서 데이터가 손실될 수 있습니다.\n",
      "  C:\\Users\\jongm\\AppData\\Local\\Temp\\pip-install-eye2frzt\\rerf_aaf224d974a64e89ab0b4e961355e41e\\src\\src\\fpSingleton\\fpInfo.h(189): warning C4244: '=': 'double'에서 'int'(으)로 변환하면서 데이터가 손실될 수 있습니다.\n",
      "  C:\\Users\\jongm\\AppData\\Local\\Temp\\pip-install-eye2frzt\\rerf_aaf224d974a64e89ab0b4e961355e41e\\src\\src\\forestTypes\\basicForests\\rerf\\../classTotals.h(55): warning C4267: 'return': 'size_t'에서 'int'(으)로 변환하면서 데이터가 손실될 수 있습니다.\n",
      "  C:\\Users\\jongm\\AppData\\Local\\Temp\\pip-install-eye2frzt\\rerf_aaf224d974a64e89ab0b4e961355e41e\\src\\src\\forestTypes\\basicForests\\rerf\\../../../baseFunctions/pdqsort.h(1): warning C4819: 현재 코드 페이지(949)에서 표시할 수 없는 문자가 파일에 들어 있습니다. 데이터가 손실되지 않게 하려면 해당 파일을 유니코드 형식으로 저장하십시오.\n",
      "  C:\\Users\\jongm\\AppData\\Local\\Temp\\pip-install-eye2frzt\\rerf_aaf224d974a64e89ab0b4e961355e41e\\src\\src\\forestTypes\\basicForests\\stratifiedInNodeClassIndices.h(32): warning C4267: '+=': 'size_t'에서 'int'(으)로 변환하면서 데이터가 손실될 수 있습니다.\n",
      "  C:\\Users\\jongm\\AppData\\Local\\Temp\\pip-install-eye2frzt\\rerf_aaf224d974a64e89ab0b4e961355e41e\\src\\src\\forestTypes\\basicForests\\stratifiedInNodeClassIndices.h(37): warning C4267: '+=': 'size_t'에서 'int'(으)로 변환하면서 데이터가 손실될 수 있습니다.\n",
      "  C:\\Users\\jongm\\AppData\\Local\\Temp\\pip-install-eye2frzt\\rerf_aaf224d974a64e89ab0b4e961355e41e\\src\\src\\forestTypes\\basicForests\\stratifiedInNodeClassIndices.h(81): warning C4267: '+=': 'size_t'에서 'unsigned int'(으)로 변환하면서 데이터가 손실될 수 있습니다.\n",
      "  C:\\Users\\jongm\\AppData\\Local\\Temp\\pip-install-eye2frzt\\rerf_aaf224d974a64e89ab0b4e961355e41e\\src\\src\\forestTypes\\basicForests\\stratifiedInNodeClassIndices.h(146): warning C4267: 'return': 'size_t'에서 'int'(으)로 변환하면서 데이터가 손실될 수 있습니다.\n",
      "  C:\\Users\\jongm\\AppData\\Local\\Temp\\pip-install-eye2frzt\\rerf_aaf224d974a64e89ab0b4e961355e41e\\src\\src\\forestTypes\\basicForests\\stratifiedInNodeClassIndices.h(155): warning C4267: '+=': 'size_t'에서 'int'(으)로 변환하면서 데이터가 손실될 수 있습니다.\n",
      "  C:\\Users\\jongm\\AppData\\Local\\Temp\\pip-install-eye2frzt\\rerf_aaf224d974a64e89ab0b4e961355e41e\\src\\src\\forestTypes\\basicForests\\stratifiedInNodeClassIndices.h(191): warning C4267: '인수': 'size_t'에서 '_Ty'(으)로 변환하면서 데이터가 손실될 수 있습니다.\n",
      "          with\n",
      "          [\n",
      "              _Ty=int\n",
      "          ]\n",
      "  C:\\Users\\jongm\\AppData\\Local\\Temp\\pip-install-eye2frzt\\rerf_aaf224d974a64e89ab0b4e961355e41e\\src\\src\\forestTypes\\basicForests\\stratifiedInNodeClassIndices.h(200): warning C4267: 'return': 'size_t'에서 'int'(으)로 변환하면서 데이터가 손실될 수 있습니다.\n",
      "  C:\\Users\\jongm\\AppData\\Local\\Temp\\pip-install-eye2frzt\\rerf_aaf224d974a64e89ab0b4e961355e41e\\src\\src\\forestTypes\\unsupervisedForests\\stratifiedInNodeClassIndicesUnsupervised.h(32): warning C4267: '=': 'size_t'에서 'int'(으)로 변환하면서 데이터가 손실될 수 있습니다.\n",
      "  C:\\Users\\jongm\\AppData\\Local\\Temp\\pip-install-eye2frzt\\rerf_aaf224d974a64e89ab0b4e961355e41e\\src\\src\\forestTypes\\unsupervisedForests\\stratifiedInNodeClassIndicesUnsupervised.h(33): warning C4267: '=': 'size_t'에서 'int'(으)로 변환하면서 데이터가 손실될 수 있습니다.\n",
      "  C:\\Users\\jongm\\AppData\\Local\\Temp\\pip-install-eye2frzt\\rerf_aaf224d974a64e89ab0b4e961355e41e\\src\\src\\forestTypes\\unsupervisedForests\\stratifiedInNodeClassIndicesUnsupervised.h(195): warning C4267: 'return': 'size_t'에서 'int'(으)로 변환하면서 데이터가 손실될 수 있습니다.\n",
      "  C:\\Users\\jongm\\AppData\\Local\\Temp\\pip-install-eye2frzt\\rerf_aaf224d974a64e89ab0b4e961355e41e\\src\\src\\forestTypes\\unsupervisedForests\\urf\\urfTree.h(9): fatal error C1083: 포함 파일을 열 수 없습니다. 'eigen3/Eigen/Dense': No such file or directory\n",
      "  error: command 'C:\\\\Program Files (x86)\\\\Microsoft Visual Studio\\\\2019\\\\BuildTools\\\\VC\\\\Tools\\\\MSVC\\\\14.29.30133\\\\bin\\\\HostX86\\\\x64\\\\cl.exe' failed with exit status 2\n",
      "  ----------------------------------------\n",
      "  ERROR: Failed building wheel for rerf\n",
      "WARNING: Ignoring invalid distribution -atplotlib (c:\\users\\jongm\\desktop\\temp_workspace\\jovo\\inductive-bias\\project_bias\\lib\\site-packages)\n",
      "    ERROR: Command errored out with exit status 1:\n",
      "     command: 'c:\\Users\\jongm\\Desktop\\temp_workspace\\JOVO\\inductive-bias\\project_bias\\Scripts\\python.exe' -u -c 'import io, os, sys, setuptools, tokenize; sys.argv[0] = '\"'\"'C:\\\\Users\\\\jongm\\\\AppData\\\\Local\\\\Temp\\\\pip-install-eye2frzt\\\\rerf_aaf224d974a64e89ab0b4e961355e41e\\\\setup.py'\"'\"'; __file__='\"'\"'C:\\\\Users\\\\jongm\\\\AppData\\\\Local\\\\Temp\\\\pip-install-eye2frzt\\\\rerf_aaf224d974a64e89ab0b4e961355e41e\\\\setup.py'\"'\"';f = getattr(tokenize, '\"'\"'open'\"'\"', open)(__file__) if os.path.exists(__file__) else io.StringIO('\"'\"'from setuptools import setup; setup()'\"'\"');code = f.read().replace('\"'\"'\\r\\n'\"'\"', '\"'\"'\\n'\"'\"');f.close();exec(compile(code, __file__, '\"'\"'exec'\"'\"'))' install --record 'C:\\Users\\jongm\\AppData\\Local\\Temp\\pip-record-0qmddit8\\install-record.txt' --single-version-externally-managed --compile --install-headers 'c:\\Users\\jongm\\Desktop\\temp_workspace\\JOVO\\inductive-bias\\project_bias\\include\\site\\python3.8\\rerf'\n",
      "         cwd: C:\\Users\\jongm\\AppData\\Local\\Temp\\pip-install-eye2frzt\\rerf_aaf224d974a64e89ab0b4e961355e41e\\\n",
      "    Complete output (45 lines):\n",
      "    running install\n",
      "    running build\n",
      "    running build_py\n",
      "    creating build\n",
      "    creating build\\lib.win-amd64-3.8\n",
      "    creating build\\lib.win-amd64-3.8\\rerf\n",
      "    copying rerf\\RerF.py -> build\\lib.win-amd64-3.8\\rerf\n",
      "    copying rerf\\rerfClassifier.py -> build\\lib.win-amd64-3.8\\rerf\n",
      "    copying rerf\\urerf.py -> build\\lib.win-amd64-3.8\\rerf\n",
      "    copying rerf\\__init__.py -> build\\lib.win-amd64-3.8\\rerf\n",
      "    running egg_info\n",
      "    writing rerf.egg-info\\PKG-INFO\n",
      "    writing dependency_links to rerf.egg-info\\dependency_links.txt\n",
      "    writing requirements to rerf.egg-info\\requires.txt\n",
      "    writing top-level names to rerf.egg-info\\top_level.txt\n",
      "    reading manifest file 'rerf.egg-info\\SOURCES.txt'\n",
      "    reading manifest template 'MANIFEST.in'\n",
      "    writing manifest file 'rerf.egg-info\\SOURCES.txt'\n",
      "    running build_ext\n",
      "    building 'pyfp' extension\n",
      "    creating build\\temp.win-amd64-3.8\n",
      "    creating build\\temp.win-amd64-3.8\\Release\n",
      "    creating build\\temp.win-amd64-3.8\\Release\\src\n",
      "    C:\\Program Files (x86)\\Microsoft Visual Studio\\2019\\BuildTools\\VC\\Tools\\MSVC\\14.29.30133\\bin\\HostX86\\x64\\cl.exe /c /nologo /Ox /W3 /GL /DNDEBUG /MD -Ic:\\Users\\jongm\\Desktop\\temp_workspace\\JOVO\\inductive-bias\\project_bias\\lib\\site-packages\\pybind11\\include -Ic:\\Users\\jongm\\Desktop\\temp_workspace\\JOVO\\inductive-bias\\project_bias\\lib\\site-packages\\pybind11\\include -Isrc/src/ -Ic:\\Users\\jongm\\Desktop\\temp_workspace\\JOVO\\inductive-bias\\project_bias\\include \"-IC:\\Program Files\\WindowsApps\\PythonSoftwareFoundation.Python.3.8_3.8.2800.0_x64__qbz5n2kfra8p0\\include\" \"-IC:\\Program Files\\WindowsApps\\PythonSoftwareFoundation.Python.3.8_3.8.2800.0_x64__qbz5n2kfra8p0\\include\" \"-IC:\\Program Files (x86)\\Microsoft Visual Studio\\2019\\BuildTools\\VC\\Tools\\MSVC\\14.29.30133\\include\" \"-IC:\\Program Files (x86)\\Windows Kits\\10\\include\\10.0.19041.0\\ucrt\" \"-IC:\\Program Files (x86)\\Windows Kits\\10\\include\\10.0.19041.0\\shared\" \"-IC:\\Program Files (x86)\\Windows Kits\\10\\include\\10.0.19041.0\\um\" \"-IC:\\Program Files (x86)\\Windows Kits\\10\\include\\10.0.19041.0\\winrt\" \"-IC:\\Program Files (x86)\\Windows Kits\\10\\include\\10.0.19041.0\\cppwinrt\" /EHsc /Tpsrc/packedForest.cpp /Fobuild\\temp.win-amd64-3.8\\Release\\src/packedForest.obj /EHsc /openmp /DVERSION_INFO=\\\"2.0.5\\\"\n",
      "    packedForest.cpp\n",
      "    C:\\Users\\jongm\\AppData\\Local\\Temp\\pip-install-eye2frzt\\rerf_aaf224d974a64e89ab0b4e961355e41e\\src\\src\\fpSingleton\\fpInfo.h(187): warning C4244: '=': 'double'에서 'int'(으)로 변환하면서 데이터가 손실될 수 있습니다.\n",
      "    C:\\Users\\jongm\\AppData\\Local\\Temp\\pip-install-eye2frzt\\rerf_aaf224d974a64e89ab0b4e961355e41e\\src\\src\\fpSingleton\\fpInfo.h(189): warning C4244: '=': 'double'에서 'int'(으)로 변환하면서 데이터가 손실될 수 있습니다.\n",
      "    C:\\Users\\jongm\\AppData\\Local\\Temp\\pip-install-eye2frzt\\rerf_aaf224d974a64e89ab0b4e961355e41e\\src\\src\\forestTypes\\basicForests\\rerf\\../classTotals.h(55): warning C4267: 'return': 'size_t'에서 'int'(으)로 변환하면서 데이터가 손실될 수 있습니다.\n",
      "    C:\\Users\\jongm\\AppData\\Local\\Temp\\pip-install-eye2frzt\\rerf_aaf224d974a64e89ab0b4e961355e41e\\src\\src\\forestTypes\\basicForests\\rerf\\../../../baseFunctions/pdqsort.h(1): warning C4819: 현재 코드 페이지(949)에서 표시할 수 없는 문자가 파일에 들어 있습니다. 데이터가 손실되지 않게 하려면 해당 파일을 유니코드 형식으로 저장하십시오.\n",
      "    C:\\Users\\jongm\\AppData\\Local\\Temp\\pip-install-eye2frzt\\rerf_aaf224d974a64e89ab0b4e961355e41e\\src\\src\\forestTypes\\basicForests\\stratifiedInNodeClassIndices.h(32): warning C4267: '+=': 'size_t'에서 'int'(으)로 변환하면서 데이터가 손실될 수 있습니다.\n",
      "    C:\\Users\\jongm\\AppData\\Local\\Temp\\pip-install-eye2frzt\\rerf_aaf224d974a64e89ab0b4e961355e41e\\src\\src\\forestTypes\\basicForests\\stratifiedInNodeClassIndices.h(37): warning C4267: '+=': 'size_t'에서 'int'(으)로 변환하면서 데이터가 손실될 수 있습니다.\n",
      "    C:\\Users\\jongm\\AppData\\Local\\Temp\\pip-install-eye2frzt\\rerf_aaf224d974a64e89ab0b4e961355e41e\\src\\src\\forestTypes\\basicForests\\stratifiedInNodeClassIndices.h(81): warning C4267: '+=': 'size_t'에서 'unsigned int'(으)로 변환하면서 데이터가 손실될 수 있습니다.\n",
      "    C:\\Users\\jongm\\AppData\\Local\\Temp\\pip-install-eye2frzt\\rerf_aaf224d974a64e89ab0b4e961355e41e\\src\\src\\forestTypes\\basicForests\\stratifiedInNodeClassIndices.h(146): warning C4267: 'return': 'size_t'에서 'int'(으)로 변환하면서 데이터가 손실될 수 있습니다.\n",
      "    C:\\Users\\jongm\\AppData\\Local\\Temp\\pip-install-eye2frzt\\rerf_aaf224d974a64e89ab0b4e961355e41e\\src\\src\\forestTypes\\basicForests\\stratifiedInNodeClassIndices.h(155): warning C4267: '+=': 'size_t'에서 'int'(으)로 변환하면서 데이터가 손실될 수 있습니다.\n",
      "    C:\\Users\\jongm\\AppData\\Local\\Temp\\pip-install-eye2frzt\\rerf_aaf224d974a64e89ab0b4e961355e41e\\src\\src\\forestTypes\\basicForests\\stratifiedInNodeClassIndices.h(191): warning C4267: '인수': 'size_t'에서 '_Ty'(으)로 변환하면서 데이터가 손실될 수 있습니다.\n",
      "            with\n",
      "            [\n",
      "                _Ty=int\n",
      "            ]\n",
      "    C:\\Users\\jongm\\AppData\\Local\\Temp\\pip-install-eye2frzt\\rerf_aaf224d974a64e89ab0b4e961355e41e\\src\\src\\forestTypes\\basicForests\\stratifiedInNodeClassIndices.h(200): warning C4267: 'return': 'size_t'에서 'int'(으)로 변환하면서 데이터가 손실될 수 있습니다.\n",
      "    C:\\Users\\jongm\\AppData\\Local\\Temp\\pip-install-eye2frzt\\rerf_aaf224d974a64e89ab0b4e961355e41e\\src\\src\\forestTypes\\unsupervisedForests\\stratifiedInNodeClassIndicesUnsupervised.h(32): warning C4267: '=': 'size_t'에서 'int'(으)로 변환하면서 데이터가 손실될 수 있습니다.\n",
      "    C:\\Users\\jongm\\AppData\\Local\\Temp\\pip-install-eye2frzt\\rerf_aaf224d974a64e89ab0b4e961355e41e\\src\\src\\forestTypes\\unsupervisedForests\\stratifiedInNodeClassIndicesUnsupervised.h(33): warning C4267: '=': 'size_t'에서 'int'(으)로 변환하면서 데이터가 손실될 수 있습니다.\n",
      "    C:\\Users\\jongm\\AppData\\Local\\Temp\\pip-install-eye2frzt\\rerf_aaf224d974a64e89ab0b4e961355e41e\\src\\src\\forestTypes\\unsupervisedForests\\stratifiedInNodeClassIndicesUnsupervised.h(195): warning C4267: 'return': 'size_t'에서 'int'(으)로 변환하면서 데이터가 손실될 수 있습니다.\n",
      "    C:\\Users\\jongm\\AppData\\Local\\Temp\\pip-install-eye2frzt\\rerf_aaf224d974a64e89ab0b4e961355e41e\\src\\src\\forestTypes\\unsupervisedForests\\urf\\urfTree.h(9): fatal error C1083: 포함 파일을 열 수 없습니다. 'eigen3/Eigen/Dense': No such file or directory\n",
      "    error: command 'C:\\\\Program Files (x86)\\\\Microsoft Visual Studio\\\\2019\\\\BuildTools\\\\VC\\\\Tools\\\\MSVC\\\\14.29.30133\\\\bin\\\\HostX86\\\\x64\\\\cl.exe' failed with exit status 2\n",
      "    ----------------------------------------\n",
      "ERROR: Command errored out with exit status 1: 'c:\\Users\\jongm\\Desktop\\temp_workspace\\JOVO\\inductive-bias\\project_bias\\Scripts\\python.exe' -u -c 'import io, os, sys, setuptools, tokenize; sys.argv[0] = '\"'\"'C:\\\\Users\\\\jongm\\\\AppData\\\\Local\\\\Temp\\\\pip-install-eye2frzt\\\\rerf_aaf224d974a64e89ab0b4e961355e41e\\\\setup.py'\"'\"'; __file__='\"'\"'C:\\\\Users\\\\jongm\\\\AppData\\\\Local\\\\Temp\\\\pip-install-eye2frzt\\\\rerf_aaf224d974a64e89ab0b4e961355e41e\\\\setup.py'\"'\"';f = getattr(tokenize, '\"'\"'open'\"'\"', open)(__file__) if os.path.exists(__file__) else io.StringIO('\"'\"'from setuptools import setup; setup()'\"'\"');code = f.read().replace('\"'\"'\\r\\n'\"'\"', '\"'\"'\\n'\"'\"');f.close();exec(compile(code, __file__, '\"'\"'exec'\"'\"'))' install --record 'C:\\Users\\jongm\\AppData\\Local\\Temp\\pip-record-0qmddit8\\install-record.txt' --single-version-externally-managed --compile --install-headers 'c:\\Users\\jongm\\Desktop\\temp_workspace\\JOVO\\inductive-bias\\project_bias\\include\\site\\python3.8\\rerf' Check the logs for full command output.\n",
      "WARNING: Ignoring invalid distribution -atplotlib (c:\\users\\jongm\\desktop\\temp_workspace\\jovo\\inductive-bias\\project_bias\\lib\\site-packages)\n",
      "WARNING: Ignoring invalid distribution -atplotlib (c:\\users\\jongm\\desktop\\temp_workspace\\jovo\\inductive-bias\\project_bias\\lib\\site-packages)\n"
     ]
    },
    {
     "output_type": "stream",
     "name": "stdout",
     "text": [
      "\n",
      "    Running setup.py install for rerf: started\n",
      "    Running setup.py install for rerf: finished with status 'error'\n"
     ]
    }
   ],
   "metadata": {}
  },
  {
   "cell_type": "code",
   "execution_count": 5,
   "source": [
    "# %pip install wheel --upgrade"
   ],
   "outputs": [],
   "metadata": {}
  },
  {
   "cell_type": "code",
   "execution_count": 7,
   "source": [
    "%pip install -e \"git+https://github.com/neurodata/RerF.git@staging#egg=rerf&subdirectory=Python\""
   ],
   "outputs": [
    {
     "output_type": "stream",
     "name": "stdout",
     "text": [
      "Obtaining rerf from git+https://github.com/neurodata/RerF.git@staging#egg=rerf&subdirectory=Python\n",
      "  Cloning https://github.com/neurodata/RerF.git (to revision staging) to c:\\users\\jongm\\desktop\\temp_workspace\\jovo\\inductive-bias\\project_bias\\src\\rerf\n",
      "  Resolved https://github.com/neurodata/RerF.git to commit a7a3c7e6df457b722de86d7254f8a7724b27978f\n",
      "Requirement already satisfied: pybind11>=2.2.4 in c:\\users\\jongm\\desktop\\temp_workspace\\jovo\\inductive-bias\\project_bias\\lib\\site-packages (from rerf) (2.7.1)\n",
      "Requirement already satisfied: numpy>=1.16.3 in c:\\users\\jongm\\desktop\\temp_workspace\\jovo\\inductive-bias\\project_bias\\lib\\site-packages (from rerf) (1.19.3)\n",
      "Requirement already satisfied: scikit-learn>=0.21.0 in c:\\users\\jongm\\desktop\\temp_workspace\\jovo\\inductive-bias\\project_bias\\lib\\site-packages (from rerf) (0.23.2)\n",
      "Requirement already satisfied: requests>=2.22.0 in c:\\users\\jongm\\desktop\\temp_workspace\\jovo\\inductive-bias\\project_bias\\lib\\site-packages (from rerf) (2.26.0)\n",
      "Requirement already satisfied: charset-normalizer~=2.0.0 in c:\\users\\jongm\\desktop\\temp_workspace\\jovo\\inductive-bias\\project_bias\\lib\\site-packages (from requests>=2.22.0->rerf) (2.0.5)\n",
      "Requirement already satisfied: certifi>=2017.4.17 in c:\\users\\jongm\\desktop\\temp_workspace\\jovo\\inductive-bias\\project_bias\\lib\\site-packages (from requests>=2.22.0->rerf) (2021.5.30)\n",
      "Requirement already satisfied: idna<4,>=2.5 in c:\\users\\jongm\\desktop\\temp_workspace\\jovo\\inductive-bias\\project_bias\\lib\\site-packages (from requests>=2.22.0->rerf) (3.2)\n",
      "Requirement already satisfied: urllib3<1.27,>=1.21.1 in c:\\users\\jongm\\desktop\\temp_workspace\\jovo\\inductive-bias\\project_bias\\lib\\site-packages (from requests>=2.22.0->rerf) (1.26.6)\n",
      "Requirement already satisfied: scipy>=0.19.1 in c:\\users\\jongm\\desktop\\temp_workspace\\jovo\\inductive-bias\\project_bias\\lib\\site-packages (from scikit-learn>=0.21.0->rerf) (1.5.4)\n",
      "Requirement already satisfied: threadpoolctl>=2.0.0 in c:\\users\\jongm\\desktop\\temp_workspace\\jovo\\inductive-bias\\project_bias\\lib\\site-packages (from scikit-learn>=0.21.0->rerf) (2.1.0)\n",
      "Requirement already satisfied: joblib>=0.11 in c:\\users\\jongm\\desktop\\temp_workspace\\jovo\\inductive-bias\\project_bias\\lib\\site-packages (from scikit-learn>=0.21.0->rerf) (0.17.0)\n",
      "Installing collected packages: rerf\n",
      "  Running setup.py develop for rerf\n",
      "Note: you may need to restart the kernel to use updated packages.\n"
     ]
    },
    {
     "output_type": "stream",
     "name": "stderr",
     "text": [
      "WARNING: Ignoring invalid distribution -atplotlib (c:\\users\\jongm\\desktop\\temp_workspace\\jovo\\inductive-bias\\project_bias\\lib\\site-packages)\n",
      "WARNING: Ignoring invalid distribution -atplotlib (c:\\users\\jongm\\desktop\\temp_workspace\\jovo\\inductive-bias\\project_bias\\lib\\site-packages)\n",
      "  Running command git clone -q https://github.com/neurodata/RerF.git 'c:\\Users\\jongm\\Desktop\\temp_workspace\\JOVO\\inductive-bias\\project_bias\\src\\rerf'\n",
      "  Running command git submodule update --init --recursive -q\n",
      "  WARNING: Ignoring invalid distribution -atplotlib (c:\\users\\jongm\\desktop\\temp_workspace\\jovo\\inductive-bias\\project_bias\\lib\\site-packages)\n",
      "WARNING: Ignoring invalid distribution -atplotlib (c:\\users\\jongm\\desktop\\temp_workspace\\jovo\\inductive-bias\\project_bias\\lib\\site-packages)\n",
      "    ERROR: Command errored out with exit status 1:\n",
      "     command: 'c:\\Users\\jongm\\Desktop\\temp_workspace\\JOVO\\inductive-bias\\project_bias\\Scripts\\python.exe' -c 'import io, os, sys, setuptools, tokenize; sys.argv[0] = '\"'\"'c:\\\\Users\\\\jongm\\\\Desktop\\\\temp_workspace\\\\JOVO\\\\inductive-bias\\\\project_bias\\\\src\\\\rerf\\\\Python\\\\setup.py'\"'\"'; __file__='\"'\"'c:\\\\Users\\\\jongm\\\\Desktop\\\\temp_workspace\\\\JOVO\\\\inductive-bias\\\\project_bias\\\\src\\\\rerf\\\\Python\\\\setup.py'\"'\"';f = getattr(tokenize, '\"'\"'open'\"'\"', open)(__file__) if os.path.exists(__file__) else io.StringIO('\"'\"'from setuptools import setup; setup()'\"'\"');code = f.read().replace('\"'\"'\\r\\n'\"'\"', '\"'\"'\\n'\"'\"');f.close();exec(compile(code, __file__, '\"'\"'exec'\"'\"'))' develop --no-deps\n",
      "         cwd: c:\\Users\\jongm\\Desktop\\temp_workspace\\JOVO\\inductive-bias\\project_bias\\src\\rerf\\Python\n",
      "    Complete output (21 lines):\n",
      "    running develop\n",
      "    running egg_info\n",
      "    creating rerf.egg-info\n",
      "    writing rerf.egg-info\\PKG-INFO\n",
      "    writing dependency_links to rerf.egg-info\\dependency_links.txt\n",
      "    writing requirements to rerf.egg-info\\requires.txt\n",
      "    writing top-level names to rerf.egg-info\\top_level.txt\n",
      "    writing manifest file 'rerf.egg-info\\SOURCES.txt'\n",
      "    reading manifest file 'rerf.egg-info\\SOURCES.txt'\n",
      "    reading manifest template 'MANIFEST.in'\n",
      "    writing manifest file 'rerf.egg-info\\SOURCES.txt'\n",
      "    running build_ext\n",
      "    building 'pyfp' extension\n",
      "    creating build\n",
      "    creating build\\temp.win-amd64-3.8\n",
      "    creating build\\temp.win-amd64-3.8\\Release\n",
      "    creating build\\temp.win-amd64-3.8\\Release\\src\n",
      "    C:\\Program Files (x86)\\Microsoft Visual Studio\\2019\\BuildTools\\VC\\Tools\\MSVC\\14.29.30133\\bin\\HostX86\\x64\\cl.exe /c /nologo /Ox /W3 /GL /DNDEBUG /MD -Ic:\\Users\\jongm\\Desktop\\temp_workspace\\JOVO\\inductive-bias\\project_bias\\lib\\site-packages\\pybind11\\include -Ic:\\Users\\jongm\\Desktop\\temp_workspace\\JOVO\\inductive-bias\\project_bias\\lib\\site-packages\\pybind11\\include -Isrc/src/ -Ic:\\Users\\jongm\\Desktop\\temp_workspace\\JOVO\\inductive-bias\\project_bias\\include \"-IC:\\Program Files\\WindowsApps\\PythonSoftwareFoundation.Python.3.8_3.8.2800.0_x64__qbz5n2kfra8p0\\include\" \"-IC:\\Program Files\\WindowsApps\\PythonSoftwareFoundation.Python.3.8_3.8.2800.0_x64__qbz5n2kfra8p0\\include\" \"-IC:\\Program Files (x86)\\Microsoft Visual Studio\\2019\\BuildTools\\VC\\Tools\\MSVC\\14.29.30133\\include\" \"-IC:\\Program Files (x86)\\Windows Kits\\10\\include\\10.0.19041.0\\ucrt\" \"-IC:\\Program Files (x86)\\Windows Kits\\10\\include\\10.0.19041.0\\shared\" \"-IC:\\Program Files (x86)\\Windows Kits\\10\\include\\10.0.19041.0\\um\" \"-IC:\\Program Files (x86)\\Windows Kits\\10\\include\\10.0.19041.0\\winrt\" \"-IC:\\Program Files (x86)\\Windows Kits\\10\\include\\10.0.19041.0\\cppwinrt\" /EHsc /Tpsrc/packedForest.cpp /Fobuild\\temp.win-amd64-3.8\\Release\\src/packedForest.obj /EHsc /openmp /DVERSION_INFO=\\\"2.0.5\\\"\n",
      "    packedForest.cpp\n",
      "    src/packedForest.cpp(1): fatal error C1083: 포함 파일을 열 수 없습니다. 'src/packedForest.h': No such file or directory\n",
      "    error: command 'C:\\\\Program Files (x86)\\\\Microsoft Visual Studio\\\\2019\\\\BuildTools\\\\VC\\\\Tools\\\\MSVC\\\\14.29.30133\\\\bin\\\\HostX86\\\\x64\\\\cl.exe' failed with exit status 2\n",
      "    ----------------------------------------\n",
      "ERROR: Command errored out with exit status 1: 'c:\\Users\\jongm\\Desktop\\temp_workspace\\JOVO\\inductive-bias\\project_bias\\Scripts\\python.exe' -c 'import io, os, sys, setuptools, tokenize; sys.argv[0] = '\"'\"'c:\\\\Users\\\\jongm\\\\Desktop\\\\temp_workspace\\\\JOVO\\\\inductive-bias\\\\project_bias\\\\src\\\\rerf\\\\Python\\\\setup.py'\"'\"'; __file__='\"'\"'c:\\\\Users\\\\jongm\\\\Desktop\\\\temp_workspace\\\\JOVO\\\\inductive-bias\\\\project_bias\\\\src\\\\rerf\\\\Python\\\\setup.py'\"'\"';f = getattr(tokenize, '\"'\"'open'\"'\"', open)(__file__) if os.path.exists(__file__) else io.StringIO('\"'\"'from setuptools import setup; setup()'\"'\"');code = f.read().replace('\"'\"'\\r\\n'\"'\"', '\"'\"'\\n'\"'\"');f.close();exec(compile(code, __file__, '\"'\"'exec'\"'\"'))' develop --no-deps Check the logs for full command output.\n",
      "WARNING: Ignoring invalid distribution -atplotlib (c:\\users\\jongm\\desktop\\temp_workspace\\jovo\\inductive-bias\\project_bias\\lib\\site-packages)\n",
      "WARNING: Ignoring invalid distribution -atplotlib (c:\\users\\jongm\\desktop\\temp_workspace\\jovo\\inductive-bias\\project_bias\\lib\\site-packages)\n"
     ]
    }
   ],
   "metadata": {}
  },
  {
   "cell_type": "code",
   "execution_count": 6,
   "source": [
    "import numpy as np\r\n",
    "import seaborn as sns\r\n",
    "import pandas as pd\r\n",
    "# import pickle\r\n",
    "from tqdm import tqdm\r\n",
    "\r\n",
    "import matplotlib.pyplot as plt\r\n",
    "from matplotlib.patches import Circle\r\n",
    "\r\n",
    "from mpl_toolkits.axes_grid1 import AxesGrid\r\n",
    "\r\n",
    "cmap = 'PRGn'\r\n",
    "\r\n",
    "# for figure 3\r\n",
    "import matplotlib as mpl\r\n",
    "from matplotlib.lines import Line2D #only for the purpose of creating the legend\r\n",
    "\r\n",
    "import warnings\r\n",
    "warnings.filterwarnings('ignore')\r\n",
    "\r\n",
    "import rerf"
   ],
   "outputs": [
    {
     "output_type": "error",
     "ename": "ModuleNotFoundError",
     "evalue": "No module named 'rerf'",
     "traceback": [
      "\u001b[1;31m---------------------------------------------------------------------------\u001b[0m",
      "\u001b[1;31mModuleNotFoundError\u001b[0m                       Traceback (most recent call last)",
      "\u001b[1;32m<ipython-input-6-a74eb5948d9f>\u001b[0m in \u001b[0;36m<module>\u001b[1;34m\u001b[0m\n\u001b[0;32m     19\u001b[0m \u001b[0mwarnings\u001b[0m\u001b[1;33m.\u001b[0m\u001b[0mfilterwarnings\u001b[0m\u001b[1;33m(\u001b[0m\u001b[1;34m'ignore'\u001b[0m\u001b[1;33m)\u001b[0m\u001b[1;33m\u001b[0m\u001b[1;33m\u001b[0m\u001b[0m\n\u001b[0;32m     20\u001b[0m \u001b[1;33m\u001b[0m\u001b[0m\n\u001b[1;32m---> 21\u001b[1;33m \u001b[1;32mimport\u001b[0m \u001b[0mrerf\u001b[0m\u001b[1;33m\u001b[0m\u001b[1;33m\u001b[0m\u001b[0m\n\u001b[0m",
      "\u001b[1;31mModuleNotFoundError\u001b[0m: No module named 'rerf'"
     ]
    }
   ],
   "metadata": {}
  },
  {
   "cell_type": "code",
   "execution_count": null,
   "source": [],
   "outputs": [],
   "metadata": {}
  }
 ]
}