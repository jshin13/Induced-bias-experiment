{
 "metadata": {
  "orig_nbformat": 2,
  "kernelspec": {
   "name": "python3",
   "display_name": "Python 3.8.10 64-bit ('project_bias': venv)"
  },
  "interpreter": {
   "hash": "5dc5cd6755ac04f4dc93bd5a6985d6c14e72c4b334a723c66993ac490df2ecdf"
  },
  "language_info": {
   "name": "python",
   "version": "3.8.10",
   "mimetype": "text/x-python",
   "codemirror_mode": {
    "name": "ipython",
    "version": 3
   },
   "pygments_lexer": "ipython3",
   "nbconvert_exporter": "python",
   "file_extension": ".py"
  }
 },
 "nbformat": 4,
 "nbformat_minor": 2,
 "cells": [
  {
   "cell_type": "markdown",
   "source": [
    "# Oblique tree behavior comparison\r\n",
    "In addtion to other algorithms (SVM, MLP, RF) and human, the oblique tree (RERF) is added to the list for comparison."
   ],
   "metadata": {}
  },
  {
   "cell_type": "code",
   "execution_count": 1,
   "source": [
    "# changing cwd\n",
    "%cd .."
   ],
   "outputs": [
    {
     "output_type": "stream",
     "name": "stdout",
     "text": [
      "/home/jshinm/Desktop/workstation/inductive-bias\n"
     ]
    }
   ],
   "metadata": {}
  },
  {
   "cell_type": "markdown",
   "source": [
    "## Load packages"
   ],
   "metadata": {}
  },
  {
   "cell_type": "code",
   "execution_count": 2,
   "source": [
    "from src.inductive_bias import IB\n",
    "ib = IB() #instantiate inductive bias package"
   ],
   "outputs": [
    {
     "output_type": "stream",
     "name": "stdout",
     "text": [
      "creating new datasets..\n",
      "completed after 0 seconds\n",
      "saved as [ /home/jshinm/Desktop/workstation/inductive-bias/clf\\SimulationData.pickle ]\n",
      "saving current attributes..\n",
      "completed after 0 seconds\n",
      "saved as [ /home/jshinm/Desktop/workstation/inductive-bias/clf\\PosteriorData.pickle ]\n",
      "saving current attributes..\n",
      "completed after 0 seconds\n",
      "saved as [ /home/jshinm/Desktop/workstation/inductive-bias/clf\\TrainedCLF.pickle ]\n",
      "saving current attributes..\n",
      "completed after 0 seconds\n",
      "saved as [ /home/jshinm/Desktop/workstation/inductive-bias/clf\\EstimatedData.pickle ]\n",
      "saving current attributes..\n",
      "completed after 0 seconds\n",
      "saved as [ /home/jshinm/Desktop/workstation/inductive-bias/clf\\HellingerData.pickle ]\n",
      "Size of the S-XOR: (6322,)                    \n",
      "Size of the Spiral: (6276,)                    \n",
      "Size of the whole dataset: (12598, 7)\n",
      "\n",
      "Size of the S-XOR after adding hellinger: (6322, 8)            \n",
      "Size of the Spiral after adding hellinger: (6276, 8)\n"
     ]
    }
   ],
   "metadata": {}
  },
  {
   "cell_type": "markdown",
   "source": [
    "## Time and Date of the experiment"
   ],
   "metadata": {}
  },
  {
   "cell_type": "code",
   "execution_count": 3,
   "source": [
    "print(ib.date)"
   ],
   "outputs": [
    {
     "output_type": "stream",
     "name": "stdout",
     "text": [
      "2021-09-15 02:43:30.786007\n"
     ]
    }
   ],
   "metadata": {}
  },
  {
   "cell_type": "markdown",
   "source": [
    "## Load Dependencies"
   ],
   "metadata": {}
  },
  {
   "cell_type": "code",
   "execution_count": 4,
   "source": [
    "import numpy as np\n",
    "import seaborn as sns\n",
    "import pandas as pd\n",
    "# import pickle\n",
    "from tqdm import tqdm\n",
    "\n",
    "import matplotlib.pyplot as plt\n",
    "from matplotlib.patches import Circle\n",
    "\n",
    "from mpl_toolkits.axes_grid1 import AxesGrid\n",
    "\n",
    "cmap = 'PRGn'\n",
    "\n",
    "# for figure 3\n",
    "import matplotlib as mpl\n",
    "from matplotlib.lines import Line2D #only for the purpose of creating the legend\n",
    "\n",
    "import warnings\n",
    "warnings.filterwarnings('ignore')\n",
    "\n",
    "import rerf"
   ],
   "outputs": [],
   "metadata": {}
  },
  {
   "cell_type": "code",
   "execution_count": 5,
   "source": [
    "rerf.check_version()"
   ],
   "outputs": [
    {
     "output_type": "execute_result",
     "data": {
      "text/plain": [
       "'2.0.5'"
      ]
     },
     "metadata": {},
     "execution_count": 5
    }
   ],
   "metadata": {}
  },
  {
   "cell_type": "code",
   "execution_count": 6,
   "source": [
    "from rerf import rerfClassifier"
   ],
   "outputs": [],
   "metadata": {}
  },
  {
   "cell_type": "code",
   "execution_count": 7,
   "source": [
    "base = rerfClassifier.BaseEstimator()"
   ],
   "outputs": [],
   "metadata": {}
  },
  {
   "cell_type": "code",
   "execution_count": 8,
   "source": [
    "base.get_params()"
   ],
   "outputs": [
    {
     "output_type": "execute_result",
     "data": {
      "text/plain": [
       "{}"
      ]
     },
     "metadata": {},
     "execution_count": 8
    }
   ],
   "metadata": {}
  },
  {
   "cell_type": "code",
   "execution_count": null,
   "source": [],
   "outputs": [],
   "metadata": {}
  }
 ]
}