{
 "metadata": {
  "language_info": {
   "codemirror_mode": {
    "name": "ipython",
    "version": 3
   },
   "file_extension": ".py",
   "mimetype": "text/x-python",
   "name": "python",
   "nbconvert_exporter": "python",
   "pygments_lexer": "ipython3",
   "version": "3.8.6"
  },
  "orig_nbformat": 2,
  "kernelspec": {
   "name": "python3",
   "display_name": "Python 3.8.6  ('project_bias': venv)"
  },
  "interpreter": {
   "hash": "9f659e1e01fa519415a08a35cd0a19a45df37c598c2f3b7f3753cfe8e2a24627"
  }
 },
 "nbformat": 4,
 "nbformat_minor": 2,
 "cells": [
  {
   "source": [
    "# Compare ML Algorithms to Human\n",
    "So far we've been comparing ML algorithms to \"true\" posteriors of each simulation dataset. Here we are comparing ML algorithms to human counterparts"
   ],
   "cell_type": "markdown",
   "metadata": {}
  },
  {
   "cell_type": "code",
   "execution_count": 1,
   "metadata": {},
   "outputs": [
    {
     "output_type": "stream",
     "name": "stdout",
     "text": [
      "c:\\Users\\jongm\\Desktop\\temp_workspace\\Python\\JOVO\\induced_bias_exp\n"
     ]
    }
   ],
   "source": [
    "# changing cwd\n",
    "%cd .."
   ]
  },
  {
   "source": [
    "## Load packages"
   ],
   "cell_type": "markdown",
   "metadata": {}
  },
  {
   "cell_type": "code",
   "execution_count": 2,
   "metadata": {},
   "outputs": [
    {
     "output_type": "stream",
     "name": "stdout",
     "text": [
      "[ c:\\Users\\jongm\\Desktop\\temp_workspace\\Python\\JOVO\\induced_bias_exp\\clf\\SimulationData.pickle ] loaded\n",
      "[ c:\\Users\\jongm\\Desktop\\temp_workspace\\Python\\JOVO\\induced_bias_exp\\clf\\PosteriorData.pickle ] loaded\n",
      "[ c:\\Users\\jongm\\Desktop\\temp_workspace\\Python\\JOVO\\induced_bias_exp\\clf\\TrainedCLF.pickle ] loaded\n",
      "[ c:\\Users\\jongm\\Desktop\\temp_workspace\\Python\\JOVO\\induced_bias_exp\\clf\\EstimatedData.pickle ] loaded\n",
      "[ c:\\Users\\jongm\\Desktop\\temp_workspace\\Python\\JOVO\\induced_bias_exp\\clf\\HellingerData.pickle ] loaded\n",
      "Size of the S-XOR: (6322,)                    \n",
      "Size of the Spiral: (6276,)                    \n",
      "Size of the whole dataset: (12598, 7)\n",
      "\n",
      "Size of the S-XOR after adding hellinger: (6322, 8)            \n",
      "Size of the Spiral after adding hellinger: (6276, 8)\n"
     ]
    }
   ],
   "source": [
    "from src.inductive_bias import IB\n",
    "ib = IB() #instantiate inductive bias package"
   ]
  },
  {
   "source": [
    "## Load Dependencies"
   ],
   "cell_type": "markdown",
   "metadata": {}
  },
  {
   "cell_type": "code",
   "execution_count": null,
   "metadata": {},
   "outputs": [],
   "source": [
    "import seaborn as sns\n",
    "import pandas as pd\n",
    "import numpy as np\n",
    "import pickle\n",
    "from tqdm.notebook import tqdm\n",
    "\n",
    "import matplotlib.pyplot as plt\n",
    "from matplotlib.patches import Rectangle\n",
    "from matplotlib.patches import Circle\n",
    "\n",
    "cmap = 'PRGn'\n",
    "\n",
    "import warnings\n",
    "warnings.filterwarnings('ignore')"
   ]
  },
  {
   "cell_type": "code",
   "execution_count": 19,
   "metadata": {},
   "outputs": [],
   "source": [
    "SAVEFIG = False"
   ]
  },
  {
   "source": [
    "## Time and Date of the experiment"
   ],
   "cell_type": "markdown",
   "metadata": {}
  },
  {
   "cell_type": "code",
   "execution_count": 3,
   "metadata": {},
   "outputs": [
    {
     "output_type": "stream",
     "name": "stdout",
     "text": [
      "2021-08-09 07:40:46.841347\n"
     ]
    }
   ],
   "source": [
    "print(ib.date)"
   ]
  },
  {
   "cell_type": "code",
   "execution_count": 20,
   "metadata": {},
   "outputs": [
    {
     "output_type": "error",
     "ename": "NameError",
     "evalue": "name 'plt' is not defined",
     "traceback": [
      "\u001b[1;31m---------------------------------------------------------------------------\u001b[0m",
      "\u001b[1;31mNameError\u001b[0m                                 Traceback (most recent call last)",
      "\u001b[1;32m<ipython-input-20-7ef328a3667f>\u001b[0m in \u001b[0;36m<module>\u001b[1;34m\u001b[0m\n\u001b[1;32m----> 1\u001b[1;33m \u001b[0mfig\u001b[0m\u001b[1;33m,\u001b[0m \u001b[0maxs\u001b[0m \u001b[1;33m=\u001b[0m \u001b[0mplt\u001b[0m\u001b[1;33m.\u001b[0m\u001b[0msubplots\u001b[0m\u001b[1;33m(\u001b[0m\u001b[1;36m1\u001b[0m\u001b[1;33m,\u001b[0m\u001b[1;36m4\u001b[0m\u001b[1;33m,\u001b[0m\u001b[0mfigsize\u001b[0m \u001b[1;33m=\u001b[0m \u001b[1;33m(\u001b[0m\u001b[1;36m5\u001b[0m\u001b[1;33m*\u001b[0m\u001b[1;36m4\u001b[0m\u001b[1;33m,\u001b[0m\u001b[1;36m5\u001b[0m\u001b[1;33m)\u001b[0m\u001b[1;33m)\u001b[0m\u001b[1;33m\u001b[0m\u001b[1;33m\u001b[0m\u001b[0m\n\u001b[0m\u001b[0;32m      2\u001b[0m \u001b[1;33m\u001b[0m\u001b[0m\n\u001b[0;32m      3\u001b[0m \u001b[1;32mfor\u001b[0m \u001b[0mi\u001b[0m \u001b[1;32min\u001b[0m \u001b[0mrange\u001b[0m\u001b[1;33m(\u001b[0m\u001b[1;36m4\u001b[0m\u001b[1;33m)\u001b[0m\u001b[1;33m:\u001b[0m\u001b[1;33m\u001b[0m\u001b[1;33m\u001b[0m\u001b[0m\n\u001b[0;32m      4\u001b[0m     \u001b[0mmlp\u001b[0m \u001b[1;33m=\u001b[0m \u001b[0maxs\u001b[0m\u001b[1;33m[\u001b[0m\u001b[0mi\u001b[0m\u001b[1;33m]\u001b[0m\u001b[1;33m.\u001b[0m\u001b[0mscatter\u001b[0m\u001b[1;33m(\u001b[0m\u001b[0mib\u001b[0m\u001b[1;33m.\u001b[0m\u001b[0mmask\u001b[0m\u001b[1;33m[\u001b[0m\u001b[1;33m:\u001b[0m\u001b[1;33m,\u001b[0m\u001b[1;36m0\u001b[0m\u001b[1;33m]\u001b[0m\u001b[1;33m,\u001b[0m \u001b[0mib\u001b[0m\u001b[1;33m.\u001b[0m\u001b[0mmask\u001b[0m\u001b[1;33m[\u001b[0m\u001b[1;33m:\u001b[0m\u001b[1;33m,\u001b[0m\u001b[1;36m1\u001b[0m\u001b[1;33m]\u001b[0m\u001b[1;33m,\u001b[0m \u001b[0mc\u001b[0m\u001b[1;33m=\u001b[0m\u001b[0mmtype\u001b[0m\u001b[1;33m[\u001b[0m\u001b[1;36m0\u001b[0m\u001b[1;33m]\u001b[0m\u001b[1;33m[\u001b[0m\u001b[0mi\u001b[0m\u001b[1;33m]\u001b[0m\u001b[1;33m,\u001b[0m \u001b[0mcmap\u001b[0m\u001b[1;33m=\u001b[0m\u001b[0mcmap\u001b[0m\u001b[1;33m,\u001b[0m \u001b[0mvmin\u001b[0m\u001b[1;33m=\u001b[0m\u001b[1;36m0\u001b[0m\u001b[1;33m,\u001b[0m \u001b[0mvmax\u001b[0m\u001b[1;33m=\u001b[0m\u001b[1;36m1\u001b[0m\u001b[1;33m)\u001b[0m\u001b[1;33m\u001b[0m\u001b[1;33m\u001b[0m\u001b[0m\n\u001b[0;32m      5\u001b[0m     \u001b[0maxs\u001b[0m\u001b[1;33m[\u001b[0m\u001b[0mi\u001b[0m\u001b[1;33m]\u001b[0m\u001b[1;33m.\u001b[0m\u001b[0mset_title\u001b[0m\u001b[1;33m(\u001b[0m\u001b[0mlabel\u001b[0m\u001b[1;33m[\u001b[0m\u001b[0mi\u001b[0m\u001b[1;33m]\u001b[0m\u001b[1;33m,\u001b[0m \u001b[0mfontsize\u001b[0m\u001b[1;33m=\u001b[0m\u001b[1;36m18\u001b[0m\u001b[1;33m)\u001b[0m\u001b[1;33m\u001b[0m\u001b[1;33m\u001b[0m\u001b[0m\n",
      "\u001b[1;31mNameError\u001b[0m: name 'plt' is not defined"
     ]
    }
   ],
   "source": [
    "fig, axs = plt.subplots(1,4,figsize = (5*4,5))\n",
    "\n",
    "for i in range(4):\n",
    "    mlp = axs[i].scatter(ib.mask[:,0], ib.mask[:,1], c=mtype[0][i], cmap=cmap, vmin=0, vmax=1)\n",
    "    axs[i].set_title(label[i], fontsize=18)\n",
    "    axs[i].set_xlim([-3,3])\n",
    "    axs[i].set_ylim([-3,3])\n",
    "    if SAVEFIG:\n",
    "        plt.savefig(f'figs/[20210809_compare_ML2human]_model_display_spiral_{str(ib.date.date())}.jpg', bbox_inches='tight')"
   ]
  },
  {
   "cell_type": "code",
   "execution_count": 18,
   "metadata": {},
   "outputs": [
    {
     "output_type": "execute_result",
     "data": {
      "text/plain": [
       "[[array([0.89962869, 0.89962861, 0.89962854, ..., 0.89963754, 0.89963734,\n",
       "         0.89963713]),\n",
       "  array([0.00702748, 0.00704301, 0.00705858, ..., 0.1120541 , 0.11225972,\n",
       "         0.11246567]),\n",
       "  array([0.1796875, 0.1796875, 0.1796875, ..., 0.453125 , 0.453125 ,\n",
       "         0.453125 ]),\n",
       "  array([1.86005512e-29, 2.11334880e-29, 2.40202245e-29, ...,\n",
       "         6.50080371e-25, 5.85968487e-25, 5.28374659e-25])],\n",
       " [array([0.95873548, 0.95873547, 0.95873546, ..., 0.9587352 , 0.95873522,\n",
       "         0.95873524]),\n",
       "  array([7.97099341e-07, 8.08024523e-07, 8.19845033e-07, ...,\n",
       "         3.09849319e-07, 3.04977164e-07, 3.00394907e-07]),\n",
       "  array([0.3125  , 0.3125  , 0.3125  , ..., 0.109375, 0.109375, 0.109375]),\n",
       "  array([1.26096919e-65, 1.77057783e-65, 2.48647950e-65, ...,\n",
       "         1.04100355e-65, 7.43159469e-66, 5.30604748e-66])],\n",
       " [array([0.52287303, 0.52287303, 0.52287303, ..., 0.52287303, 0.52287303,\n",
       "         0.52287303]),\n",
       "  array([0., 0., 0., ..., 1., 1., 1.]),\n",
       "  array([0.325     , 0.325     , 0.325     , ..., 0.63184524, 0.63184524,\n",
       "         0.63184524]),\n",
       "  array([0.02168732, 0.02171037, 0.02173345, ..., 0.97807741, 0.97810068,\n",
       "         0.97812393])],\n",
       " [array([0.90068715, 0.90068708, 0.90068699, ..., 0.90068898, 0.90068899,\n",
       "         0.90068901]),\n",
       "  array([0.75714708, 0.7566403 , 0.7561328 , ..., 0.66675711, 0.66736386,\n",
       "         0.66797007]),\n",
       "  array([0.453125 , 0.453125 , 0.453125 , ..., 0.7109375, 0.7109375,\n",
       "         0.7109375]),\n",
       "  array([1., 1., 1., ..., 1., 1., 1.])],\n",
       " [array([0.40881083, 0.40881072, 0.4088106 , ..., 0.40881044, 0.40881056,\n",
       "         0.40881068]),\n",
       "  array([1.79970155e-08, 1.81821772e-08, 1.83692440e-08, ...,\n",
       "         7.50804352e-06, 7.42586896e-06, 7.34459379e-06]),\n",
       "  array([0.1015625, 0.1015625, 0.1015625, ..., 0.15625  , 0.15625  ,\n",
       "         0.15625  ]),\n",
       "  array([0., 0., 0., ..., 0., 0., 0.])]]"
      ]
     },
     "metadata": {},
     "execution_count": 18
    }
   ],
   "source": [
    "ib.estpst[0]"
   ]
  }
 ]
}