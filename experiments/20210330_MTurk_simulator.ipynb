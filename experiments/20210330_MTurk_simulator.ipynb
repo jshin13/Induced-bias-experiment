{
 "metadata": {
  "language_info": {
   "codemirror_mode": {
    "name": "ipython",
    "version": 3
   },
   "file_extension": ".py",
   "mimetype": "text/x-python",
   "name": "python",
   "nbconvert_exporter": "python",
   "pygments_lexer": "ipython3",
   "version": "3.8.8"
  },
  "orig_nbformat": 2,
  "kernelspec": {
   "name": "python3",
   "display_name": "Python 3.8.8 64-bit ('project_bias': venv)",
   "metadata": {
    "interpreter": {
     "hash": "9f659e1e01fa519415a08a35cd0a19a45df37c598c2f3b7f3753cfe8e2a24627"
    }
   }
  }
 },
 "nbformat": 4,
 "nbformat_minor": 2,
 "cells": [
  {
   "source": [
    "# MTurk simulator/estimator\n",
    "Before deploying the human experiment on MTurk, rough estimate of cost of experiment was needed. Thus, the simulation with random sampling was done for both S-XOR and spiral datasets to ultimately determine how many subject will be required for qualitative assessment of the experimental outcome."
   ],
   "cell_type": "markdown",
   "metadata": {}
  },
  {
   "cell_type": "code",
   "execution_count": 1,
   "metadata": {},
   "outputs": [
    {
     "output_type": "stream",
     "name": "stdout",
     "text": [
      "c:\\Users\\jongm\\Desktop\\temp_workspace\\Python\\JOVO\\induced_bias_exp\n"
     ]
    }
   ],
   "source": [
    "# changing cwd\n",
    "%cd .."
   ]
  },
  {
   "source": [
    "## Load packages"
   ],
   "cell_type": "markdown",
   "metadata": {}
  },
  {
   "cell_type": "code",
   "execution_count": 5,
   "metadata": {},
   "outputs": [],
   "source": [
    "import pandas as pd\n",
    "import numpy as np"
   ]
  },
  {
   "cell_type": "code",
   "execution_count": 2,
   "metadata": {},
   "outputs": [
    {
     "output_type": "stream",
     "name": "stdout",
     "text": [
      "[ c:\\Users\\jongm\\Desktop\\temp_workspace\\Python\\JOVO\\induced_bias_exp\\clf\\SimulationData.pickle ] loaded\n",
      "[ c:\\Users\\jongm\\Desktop\\temp_workspace\\Python\\JOVO\\induced_bias_exp\\clf\\PosteriorData.pickle ] loaded\n",
      "[ c:\\Users\\jongm\\Desktop\\temp_workspace\\Python\\JOVO\\induced_bias_exp\\clf\\TrainedCLF.pickle ] loaded\n",
      "[ c:\\Users\\jongm\\Desktop\\temp_workspace\\Python\\JOVO\\induced_bias_exp\\clf\\EstimatedData.pickle ] loaded\n",
      "[ c:\\Users\\jongm\\Desktop\\temp_workspace\\Python\\JOVO\\induced_bias_exp\\clf\\HellingerData.pickle ] loaded\n",
      "Size of the S-XOR: (6322,)                    \n",
      "Size of the Spiral: (6276,)                    \n",
      "Size of the whole dataset: (12598, 7)\n",
      "\n",
      "Size of the S-XOR after adding hellinger: (6322, 8)            \n",
      "Size of the Spiral after adding hellinger: (6276, 8)\n"
     ]
    }
   ],
   "source": [
    "from src.inductive_bias import IB\n",
    "ib = IB() #instantiate inductive bias package"
   ]
  },
  {
   "source": [
    "## Time and Date of the experiment"
   ],
   "cell_type": "markdown",
   "metadata": {}
  },
  {
   "cell_type": "code",
   "execution_count": 3,
   "metadata": {},
   "outputs": [
    {
     "output_type": "stream",
     "name": "stdout",
     "text": [
      "2021-05-07 00:04:27.994768\n"
     ]
    }
   ],
   "source": [
    "print(ib.date)"
   ]
  },
  {
   "cell_type": "code",
   "execution_count": 7,
   "metadata": {},
   "outputs": [
    {
     "output_type": "stream",
     "name": "stdout",
     "text": [
      "Range 2: [2578.8  505.6  254.   317.  1600. ]\n",
      "Range 3: [5662.9  498.8  254.   317.  3600. ]\n"
     ]
    }
   ],
   "source": [
    "#number of sample simulator\n",
    "for rngs in [2,3]: #simulating r=2 and r=3\n",
    "\n",
    "    lst_cnt = [] #count list\n",
    "    rng = rngs\n",
    "\n",
    "    for i in range(10):\n",
    "\n",
    "        temp = np.round(ib.generate_mask(rng=rng, h=0.1),2) #must round!\n",
    "        tempx, tempy= temp[:,0], temp[:,1]\n",
    "\n",
    "        temp_idx = (np.sqrt(temp[:,0]**2 + temp[:,1]**2) <= 1)#(abs(tempx) <= 1) * (abs(tempy) <= 1.0)\n",
    "        temp_circle = temp[temp_idx]\n",
    "        tempz = np.arange(0,temp_circle.shape[0])\n",
    "        tempz[:] = 0\n",
    "        # print (temp_circle.shape, tempz.shape)\n",
    "\n",
    "        cnt_t = 0 #total count\n",
    "        cnt_i = 0 #inside count    \n",
    "\n",
    "        while True: #ensures sampling within the unit circle\n",
    "            chooseX = np.random.choice(tempx)\n",
    "            chooseY = np.random.choice(tempy)\n",
    "            cnt_t += 1\n",
    "            # print(idx)\n",
    "            if cnt_t == 20000: #safety switch\n",
    "                break\n",
    "            if np.sqrt(chooseX**2+chooseY**2) <= 1:\n",
    "                idx = np.argwhere(np.all(temp_circle==[chooseX,chooseY], axis=1))\n",
    "                tempz[idx] = 1\n",
    "                cnt_i += 1\n",
    "                if tempz.sum() > tempz.size * 0.8:\n",
    "                    break\n",
    "        \n",
    "        lst_cnt.append((cnt_t, cnt_i, tempz.sum(), tempz.size, tempx.size))\n",
    "\n",
    "    print('Range {}: {}'.format(rng, np.mean(lst_cnt, axis=0)))    "
   ]
  },
  {
   "cell_type": "code",
   "execution_count": null,
   "metadata": {},
   "outputs": [],
   "source": []
  }
 ]
}