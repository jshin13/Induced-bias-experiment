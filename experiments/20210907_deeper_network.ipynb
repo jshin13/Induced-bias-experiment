{
 "metadata": {
  "language_info": {
   "codemirror_mode": {
    "name": "ipython",
    "version": 3
   },
   "file_extension": ".py",
   "mimetype": "text/x-python",
   "name": "python",
   "nbconvert_exporter": "python",
   "pygments_lexer": "ipython3",
   "version": "3.8.6-final"
  },
  "orig_nbformat": 2,
  "kernelspec": {
   "name": "python3",
   "display_name": "Python 3.8.6 64-bit ('project_bias')",
   "metadata": {
    "interpreter": {
     "hash": "9f659e1e01fa519415a08a35cd0a19a45df37c598c2f3b7f3753cfe8e2a24627"
    }
   }
  }
 },
 "nbformat": 4,
 "nbformat_minor": 2,
 "cells": [
  {
   "cell_type": "markdown",
   "source": [
    "# Studying the behavior of deeper multilayer perceptron\r\n",
    "Here more than 1 hidden layers were implemented in order to compare its behavior to a single layer MLP."
   ],
   "metadata": {}
  },
  {
   "cell_type": "code",
   "execution_count": 1,
   "source": [
    "# changing cwd\r\n",
    "%cd .."
   ],
   "outputs": [
    {
     "output_type": "stream",
     "name": "stdout",
     "text": [
      "c:\\Users\\jongm\\Desktop\\temp_workspace\\Python\\JOVO\\induced_bias_exp\n"
     ]
    }
   ],
   "metadata": {}
  },
  {
   "cell_type": "markdown",
   "source": [
    "## Load packages"
   ],
   "metadata": {}
  },
  {
   "cell_type": "code",
   "execution_count": 2,
   "source": [
    "from src.inductive_bias import IB\r\n",
    "ib = IB() #instantiate inductive bias package"
   ],
   "outputs": [],
   "metadata": {}
  },
  {
   "cell_type": "markdown",
   "source": [
    "## Time and Date of the experiment"
   ],
   "metadata": {}
  },
  {
   "cell_type": "code",
   "execution_count": 3,
   "source": [
    "print(ib.date)"
   ],
   "outputs": [
    {
     "output_type": "stream",
     "name": "stdout",
     "text": [
      "2021-03-22 02:30:49.555053\n"
     ]
    }
   ],
   "metadata": {}
  }
 ]
}